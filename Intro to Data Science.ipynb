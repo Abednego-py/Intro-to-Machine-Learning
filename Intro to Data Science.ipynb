{
 "cells": [
  {
   "cell_type": "markdown",
   "id": "0e653ef2",
   "metadata": {},
   "source": [
    "## Data Science\n",
    "\n",
    "Data Science is an interdisciplinary field that uses scientific methods, processes, algorithms, and systems to extract knowledge and insights from structured and unstructured data. It combines aspects of statistics, computer science, mathematics, and domain expertise to solve complex problems.\n",
    "\n",
    "\n",
    " In simpler terms, data science is about obtaining, processing, and analyzing data to gain insights for many purposes.\n",
    " \n",
    " \n",
    " ### Data Science Lifecycle\n",
    " \n",
    "![](Data_Science_Workflow.jpg)"
   ]
  },
  {
   "cell_type": "markdown",
   "id": "5534d731",
   "metadata": {},
   "source": [
    "### Data science vs data analytics\n",
    "\n",
    "Data science and data analytics both serve crucial roles in extracting value from data, but their focuses differ. `Data science is an overarching field that uses methods including machine learning and predictive analytics, to draw insights from data`. In contrast, `data analytics concentrates on processing and performing statistical analysis on existing datasets to answer specific questions`."
   ]
  },
  {
   "cell_type": "markdown",
   "id": "fa55bfaa",
   "metadata": {},
   "source": [
    "### Data Science, Machine Learning and Artificial Intelligence\n",
    "\n",
    "#### AI - Artificial Intelligence\n",
    "\n",
    "Artificial intelligence is a broad field of computer science focused on creating intelligent systems capable of performing tasks that would typically require human intelligence. These tasks range from understanding natural language and recognizing patterns to making decisions and solving complex problems.\n",
    "\n",
    "\n",
    "#### Machine Learning\n",
    "\n",
    "Machine learning (ML) is a specialized branch within the expansive field of AI. Its primary aim is to design and fine-tune algorithms that become more accurate and efficient as they interact with data over time.\n",
    "\n",
    "Put simply, machine learning equips computers with the ability to analyze data, draw insights, and make informed decisions or forecasts, all without requiring explicit programming for these tasks.\n"
   ]
  },
  {
   "cell_type": "markdown",
   "id": "430c5203",
   "metadata": {},
   "source": [
    "![](comparison.jpg)\n",
    "\n",
    "![](data_science_vs_AI.jpg)"
   ]
  },
  {
   "cell_type": "markdown",
   "id": "cbafe70c",
   "metadata": {},
   "source": [
    "### Applications of Data Science\n",
    "\n",
    "Data Science has applications across various domains, including:\n",
    "\n",
    "`Business`: Enhancing customer experience, optimizing marketing strategies, and improving decision-making.\n",
    "\n",
    "`Healthcare`: Predicting disease outbreaks, personalizing treatment plans, and improving patient outcomes.\n",
    "\n",
    "`Finance`: Fraud detection, risk management, and algorithmic trading.\n",
    "\n",
    "`Sports`: Performance analysis, injury prediction, and fan engagement.\n"
   ]
  },
  {
   "cell_type": "markdown",
   "id": "a9a3a453",
   "metadata": {},
   "source": [
    "### Libraries for Data Science\n",
    "\n",
    "`Pandas`: A powerful library for data manipulation and analysis, providing data structures like DataFrames and Series for handling structured data.\n",
    "\n",
    "`NumPy`: Essential for numerical computing in Python, it provides support for arrays and matrices, along with mathematical functions to operate on these data structures.\n",
    "\n",
    "`Visualization Libraries` : Seaborn , matplotlib, pyplot\n",
    "\n",
    "`Scikit-learn` : A comprehensive library for machine learning that includes simple and efficient tools for data mining and data analysis, supporting various supervised and unsupervised learning algorithms.\n",
    "\n",
    "`TensorFlow` : An open-source library for numerical computation and machine learning, widely used for building deep learning models.\n",
    "\n",
    "`Keras`: A high-level neural networks API that runs on top of TensorFlow, designed for easy and fast experimentation with deep learning.\n",
    "\n",
    "`PyTorch`: An open-source machine learning library that provides flexibility and speed in building deep learning models, favored for research and production."
   ]
  },
  {
   "cell_type": "code",
   "execution_count": null,
   "id": "d0e64def",
   "metadata": {},
   "outputs": [],
   "source": []
  }
 ],
 "metadata": {
  "kernelspec": {
   "display_name": "Python 3 (ipykernel)",
   "language": "python",
   "name": "python3"
  },
  "language_info": {
   "codemirror_mode": {
    "name": "ipython",
    "version": 3
   },
   "file_extension": ".py",
   "mimetype": "text/x-python",
   "name": "python",
   "nbconvert_exporter": "python",
   "pygments_lexer": "ipython3",
   "version": "3.11.5"
  }
 },
 "nbformat": 4,
 "nbformat_minor": 5
}
