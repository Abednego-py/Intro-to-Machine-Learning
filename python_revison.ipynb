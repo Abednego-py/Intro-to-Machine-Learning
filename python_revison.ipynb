{
 "cells": [
  {
   "cell_type": "code",
   "execution_count": 4,
   "metadata": {},
   "outputs": [
    {
     "name": "stdout",
     "output_type": "stream",
     "text": [
      "I have thought of a number between 1 and 10. Can you guess the number\n",
      "You did not guess correctly\n",
      "Congratulations! you got the answer correct\n"
     ]
    }
   ],
   "source": [
    "# loops\n",
    "\n",
    "guessed_number = 10\n",
    "\n",
    "print('I have thought of a number between 1 and 10. Can you guess the number')\n",
    "\n",
    "for i in range(3):\n",
    "    user_guess = int(input('Enter a guess : '))\n",
    "\n",
    "    if (user_guess != guessed_number):\n",
    "        print('You did not guess correctly')\n",
    "    if (user_guess == guessed_number):\n",
    "        print('Congratulations! you got the answer correct')\n",
    "        break"
   ]
  },
  {
   "cell_type": "code",
   "execution_count": 7,
   "metadata": {},
   "outputs": [
    {
     "name": "stdout",
     "output_type": "stream",
     "text": [
      "I have thought of a number between 1 and 10. Can you guess the number\n",
      "You did not guess correctly\n",
      "You did not guess correctly\n",
      "You did not guess correctly\n"
     ]
    }
   ],
   "source": [
    "start = 1\n",
    "guessed_number = 10\n",
    "\n",
    "print('I have thought of a number between 1 and 10. Can you guess the number')\n",
    "\n",
    "while (start < 4):\n",
    "    user_guess = int(input('Enter a guess : '))\n",
    "\n",
    "    if (user_guess != guessed_number):\n",
    "        print('You did not guess correctly')\n",
    "    if (user_guess == guessed_number):\n",
    "        print('Congratulations! you got the answer correct')\n",
    "        break \n",
    "    start += 1"
   ]
  },
  {
   "cell_type": "code",
   "execution_count": null,
   "metadata": {},
   "outputs": [],
   "source": []
  }
 ],
 "metadata": {
  "kernelspec": {
   "display_name": "base",
   "language": "python",
   "name": "python3"
  },
  "language_info": {
   "codemirror_mode": {
    "name": "ipython",
    "version": 3
   },
   "file_extension": ".py",
   "mimetype": "text/x-python",
   "name": "python",
   "nbconvert_exporter": "python",
   "pygments_lexer": "ipython3",
   "version": "3.11.5"
  }
 },
 "nbformat": 4,
 "nbformat_minor": 2
}
